{
  "nbformat": 4,
  "nbformat_minor": 0,
  "metadata": {
    "colab": {
      "provenance": [],
      "collapsed_sections": [],
      "authorship_tag": "ABX9TyMekhcWmwiCDPxE2TiECs/X",
      "include_colab_link": true
    },
    "kernelspec": {
      "name": "python3",
      "display_name": "Python 3"
    },
    "language_info": {
      "name": "python"
    }
  },
  "cells": [
    {
      "cell_type": "markdown",
      "metadata": {
        "id": "view-in-github",
        "colab_type": "text"
      },
      "source": [
        "<a href=\"https://colab.research.google.com/github/ankur2392roy/Online-fraud/blob/main/Online_fraud.ipynb\" target=\"_parent\"><img src=\"https://colab.research.google.com/assets/colab-badge.svg\" alt=\"Open In Colab\"/></a>"
      ]
    },
    {
      "cell_type": "code",
      "execution_count": 27,
      "metadata": {
        "id": "a-lex0ghTDdM"
      },
      "outputs": [],
      "source": [
        "import numpy as np\n",
        "import pandas as pd\n",
        "import seaborn as sns\n"
      ]
    },
    {
      "cell_type": "code",
      "source": [
        "df=pd.read_csv('onlinefraud.csv',index_col=False)\n",
        "df.head(10)\n",
        "df.shape[0]"
      ],
      "metadata": {
        "id": "qGg6APrbCcyL",
        "outputId": "24aaf6d3-72da-4475-a2d9-3927569a4e54",
        "colab": {
          "base_uri": "https://localhost:8080/"
        }
      },
      "execution_count": 46,
      "outputs": [
        {
          "output_type": "execute_result",
          "data": {
            "text/plain": [
              "6362620"
            ]
          },
          "metadata": {},
          "execution_count": 46
        }
      ]
    },
    {
      "cell_type": "code",
      "source": [
        "#Filter out trsnsaction types by fraud or not fraud\n",
        "df_fraud=df[df['isFraud']==1.0]\n",
        "df_notfraud=df[df['isFraud']==0.0]\n",
        "df[df['isFraud']==1.0].shape[0]"
      ],
      "metadata": {
        "id": "ozKolbqNCoTX",
        "outputId": "a3685b3d-cd6f-47d6-fca2-c8febf9122b7",
        "colab": {
          "base_uri": "https://localhost:8080/"
        }
      },
      "execution_count": 47,
      "outputs": [
        {
          "output_type": "execute_result",
          "data": {
            "text/plain": [
              "8213"
            ]
          },
          "metadata": {},
          "execution_count": 47
        }
      ]
    },
    {
      "cell_type": "code",
      "source": [],
      "metadata": {
        "id": "Vrjq4npcP5w-"
      },
      "execution_count": null,
      "outputs": []
    }
  ]
}